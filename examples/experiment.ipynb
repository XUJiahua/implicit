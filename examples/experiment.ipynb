{
 "cells": [
  {
   "cell_type": "code",
   "execution_count": 115,
   "metadata": {
    "scrolled": false
   },
   "outputs": [],
   "source": [
    "import pandas as pd\n",
    "import numpy as np\n",
    "import scipy\n",
    "from sklearn.model_selection import train_test_split\n",
    "\n",
    "# read ratings\n",
    "ratings = pd.read_csv(\"ml-latest-small/ratings.csv\", usecols=[0,1,2])\n",
    "# assumption: uid/mid is of string type\n",
    "ratings = ratings.astype({\"userId\": \"category\", \"movieId\": \"category\"})\n",
    "\n",
    "# n_user\n",
    "n_user = ratings[\"userId\"].nunique()\n",
    "# n_item\n",
    "n_item = ratings[\"movieId\"].nunique()\n",
    "\n",
    "# inner id -> raw id\n",
    "user_index = dict(enumerate(ratings[\"userId\"].unique()))\n",
    "# raw_id -> inner_id\n",
    "user_inverted_index = { v: k for k, v in user_index.items()}\n",
    "\n",
    "# inner id -> raw id\n",
    "item_index = dict(enumerate(ratings[\"movieId\"].unique()))\n",
    "# raw_id -> inner_id\n",
    "item_inverted_index = { v: k for k, v in item_index.items()}\n",
    "\n",
    "# add inner id\n",
    "uids = [user_inverted_index[userId] for userId in ratings[\"userId\"].values]\n",
    "iids = [item_inverted_index[itemId] for itemId in ratings[\"movieId\"].values]\n",
    "ratings = ratings.assign(\n",
    "    uid=uids, \n",
    "    iid=iids)\n",
    "# drop unused columns\n",
    "ratings.drop(columns=[\"userId\", \"movieId\"], axis=1, inplace=True)\n",
    "\n",
    "# drop ratings less then (preparation for implicit dataset)\n",
    "min_rating = 3\n",
    "ratings = ratings[ratings[\"rating\"] >= min_rating]\n",
    "ratings[\"rating\"] = 1"
   ]
  },
  {
   "cell_type": "code",
   "execution_count": 196,
   "metadata": {},
   "outputs": [
    {
     "data": {
      "text/html": [
       "<div>\n",
       "<style scoped>\n",
       "    .dataframe tbody tr th:only-of-type {\n",
       "        vertical-align: middle;\n",
       "    }\n",
       "\n",
       "    .dataframe tbody tr th {\n",
       "        vertical-align: top;\n",
       "    }\n",
       "\n",
       "    .dataframe thead th {\n",
       "        text-align: right;\n",
       "    }\n",
       "</style>\n",
       "<table border=\"1\" class=\"dataframe\">\n",
       "  <thead>\n",
       "    <tr style=\"text-align: right;\">\n",
       "      <th></th>\n",
       "      <th>rating</th>\n",
       "      <th>uid</th>\n",
       "      <th>iid</th>\n",
       "    </tr>\n",
       "  </thead>\n",
       "  <tbody>\n",
       "    <tr>\n",
       "      <th>count</th>\n",
       "      <td>81763.0</td>\n",
       "      <td>81763.000000</td>\n",
       "      <td>81763.000000</td>\n",
       "    </tr>\n",
       "    <tr>\n",
       "      <th>mean</th>\n",
       "      <td>1.0</td>\n",
       "      <td>321.286315</td>\n",
       "      <td>1726.459254</td>\n",
       "    </tr>\n",
       "    <tr>\n",
       "      <th>std</th>\n",
       "      <td>0.0</td>\n",
       "      <td>181.744214</td>\n",
       "      <td>1900.710684</td>\n",
       "    </tr>\n",
       "    <tr>\n",
       "      <th>min</th>\n",
       "      <td>1.0</td>\n",
       "      <td>0.000000</td>\n",
       "      <td>0.000000</td>\n",
       "    </tr>\n",
       "    <tr>\n",
       "      <th>25%</th>\n",
       "      <td>1.0</td>\n",
       "      <td>169.000000</td>\n",
       "      <td>401.000000</td>\n",
       "    </tr>\n",
       "    <tr>\n",
       "      <th>50%</th>\n",
       "      <td>1.0</td>\n",
       "      <td>320.000000</td>\n",
       "      <td>1077.000000</td>\n",
       "    </tr>\n",
       "    <tr>\n",
       "      <th>75%</th>\n",
       "      <td>1.0</td>\n",
       "      <td>473.000000</td>\n",
       "      <td>2316.000000</td>\n",
       "    </tr>\n",
       "    <tr>\n",
       "      <th>max</th>\n",
       "      <td>1.0</td>\n",
       "      <td>609.000000</td>\n",
       "      <td>9723.000000</td>\n",
       "    </tr>\n",
       "  </tbody>\n",
       "</table>\n",
       "</div>"
      ],
      "text/plain": [
       "        rating           uid           iid\n",
       "count  81763.0  81763.000000  81763.000000\n",
       "mean       1.0    321.286315   1726.459254\n",
       "std        0.0    181.744214   1900.710684\n",
       "min        1.0      0.000000      0.000000\n",
       "25%        1.0    169.000000    401.000000\n",
       "50%        1.0    320.000000   1077.000000\n",
       "75%        1.0    473.000000   2316.000000\n",
       "max        1.0    609.000000   9723.000000"
      ]
     },
     "execution_count": 196,
     "metadata": {},
     "output_type": "execute_result"
    }
   ],
   "source": [
    "ratings.describe()"
   ]
  },
  {
   "cell_type": "code",
   "execution_count": 211,
   "metadata": {},
   "outputs": [
    {
     "name": "stdout",
     "output_type": "stream",
     "text": [
      "rating    int64\n",
      "uid       int64\n",
      "iid       int64\n",
      "dtype: object\n",
      "dataframe shape:  (81763, 3)\n",
      "unique user count: 609, unique item count: 8452\n",
      "dataframe shape:  (65410, 3)\n",
      "unique user count: 609, unique item count: 7774\n",
      "dataframe shape:  (16353, 3)\n",
      "unique user count: 606, unique item count: 4379\n"
     ]
    }
   ],
   "source": [
    "# split\n",
    "ratings_train, ratings_test = train_test_split(ratings, test_size=0.2, random_state=42)\n",
    "def stat(df):\n",
    "    print(\"dataframe shape: \", df.shape)\n",
    "    print(f\"unique user count: {df['uid'].nunique()}, unique item count: {df['iid'].nunique()}\")\n",
    "\n",
    "print(ratings.dtypes)\n",
    "stat(ratings)\n",
    "stat(ratings_train)\n",
    "stat(ratings_test)"
   ]
  },
  {
   "cell_type": "code",
   "execution_count": 212,
   "metadata": {},
   "outputs": [],
   "source": [
    "# to sparse matrix\n",
    "sparse_ratings_train = scipy.sparse.csr_matrix((ratings_train.rating, (ratings_train.iid, ratings_train.uid)), \n",
    "                                               shape=(n_item, n_user))"
   ]
  },
  {
   "cell_type": "code",
   "execution_count": 213,
   "metadata": {},
   "outputs": [
    {
     "data": {
      "application/vnd.jupyter.widget-view+json": {
       "model_id": "70e809ca2298453e81c82ee57369b88c",
       "version_major": 2,
       "version_minor": 0
      },
      "text/html": [
       "<p>Failed to display Jupyter Widget of type <code>HBox</code>.</p>\n",
       "<p>\n",
       "  If you're reading this message in the Jupyter Notebook or JupyterLab Notebook, it may mean\n",
       "  that the widgets JavaScript is still loading. If this message persists, it\n",
       "  likely means that the widgets JavaScript library is either not installed or\n",
       "  not enabled. See the <a href=\"https://ipywidgets.readthedocs.io/en/stable/user_install.html\">Jupyter\n",
       "  Widgets Documentation</a> for setup instructions.\n",
       "</p>\n",
       "<p>\n",
       "  If you're reading this message in another frontend (for example, a static\n",
       "  rendering on GitHub or <a href=\"https://nbviewer.jupyter.org/\">NBViewer</a>),\n",
       "  it may mean that your frontend doesn't currently support widgets.\n",
       "</p>\n"
      ],
      "text/plain": [
       "HBox(children=(FloatProgress(value=0.0, max=20.0), HTML(value='')))"
      ]
     },
     "metadata": {},
     "output_type": "display_data"
    },
    {
     "name": "stdout",
     "output_type": "stream",
     "text": [
      "\n"
     ]
    }
   ],
   "source": [
    "# training\n",
    "from implicit.als import AlternatingLeastSquares\n",
    "import time\n",
    "import logging\n",
    "model_name = \"als\"\n",
    "log = logging.getLogger(\"implicit\")\n",
    "\n",
    "model = AlternatingLeastSquares(iterations=20, calculate_training_loss=True)\n",
    "start = time.time()\n",
    "model.fit(sparse_ratings_train)\n",
    "log.debug(\"trained model '%s' in %s\", model_name, time.time() - start)\n"
   ]
  },
  {
   "cell_type": "code",
   "execution_count": 214,
   "metadata": {},
   "outputs": [],
   "source": [
    "def evaluate(model, ratings_train, ratings_test, K=10):\n",
    "    # recommendations matrix: n_user x K (recommend list length)\n",
    "    recommendations = model.recommend_all(ratings_train, \n",
    "                                          N = K, \n",
    "                                          filter_already_liked_items=True)\n",
    "    # uid as index\n",
    "    interactions = ratings_test.groupby(['uid'])['iid'].apply(list)\n",
    "    \n",
    "    # recall@k, precision@k, f1@k\n",
    "    # https://en.wikipedia.org/wiki/Evaluation_measures_(information_retrieval)\n",
    "    records = []\n",
    "    for index, interactionList in interactions.items():\n",
    "        # every user should has recommendations\n",
    "        recommendationList = recommendations[index]\n",
    "        intersection = set(recommendationList).intersection(set(interactionList))\n",
    "        record = {\n",
    "            \"n_intersection\": len(intersection),\n",
    "            \"n_interaction\": len(interactionList),\n",
    "#             \"n_recommendation\": len(recommendationList),\n",
    "            f\"P@{K}\": len(intersection) * 1.0 / len(recommendationList),\n",
    "            f\"R@{K}\": len(intersection) * 1.0 / len(interactionList),\n",
    "        }\n",
    "        if record[\"n_intersection\"] > 0:\n",
    "            record[f\"F1@{K}\"] = 2 * record[f\"P@{K}\"] * record[f\"R@{K}\"] / (record[f\"P@{K}\"] + record[f\"R@{K}\"])\n",
    "        records.append(record)\n",
    "    \n",
    "    df = pd.DataFrame(records)\n",
    "    print(df.describe())"
   ]
  },
  {
   "cell_type": "code",
   "execution_count": 215,
   "metadata": {},
   "outputs": [
    {
     "data": {
      "application/vnd.jupyter.widget-view+json": {
       "model_id": "e5fc23c978e1444583ef6faecfeea9de",
       "version_major": 2,
       "version_minor": 0
      },
      "text/html": [
       "<p>Failed to display Jupyter Widget of type <code>HBox</code>.</p>\n",
       "<p>\n",
       "  If you're reading this message in the Jupyter Notebook or JupyterLab Notebook, it may mean\n",
       "  that the widgets JavaScript is still loading. If this message persists, it\n",
       "  likely means that the widgets JavaScript library is either not installed or\n",
       "  not enabled. See the <a href=\"https://ipywidgets.readthedocs.io/en/stable/user_install.html\">Jupyter\n",
       "  Widgets Documentation</a> for setup instructions.\n",
       "</p>\n",
       "<p>\n",
       "  If you're reading this message in another frontend (for example, a static\n",
       "  rendering on GitHub or <a href=\"https://nbviewer.jupyter.org/\">NBViewer</a>),\n",
       "  it may mean that your frontend doesn't currently support widgets.\n",
       "</p>\n"
      ],
      "text/plain": [
       "HBox(children=(FloatProgress(value=0.0, max=610.0), HTML(value='')))"
      ]
     },
     "metadata": {},
     "output_type": "display_data"
    },
    {
     "name": "stdout",
     "output_type": "stream",
     "text": [
      "\n",
      "       n_intersection  n_interaction        P@10        R@10       F1@10\n",
      "count      606.000000     606.000000  606.000000  606.000000  480.000000\n",
      "mean         2.084158      26.985149    0.208416    0.163357    0.192434\n",
      "std          1.802986      41.353163    0.180299    0.192219    0.138601\n",
      "min          0.000000       1.000000    0.000000    0.000000    0.008811\n",
      "25%          1.000000       6.000000    0.100000    0.015968    0.086957\n",
      "50%          2.000000      12.000000    0.200000    0.100000    0.148701\n",
      "75%          3.000000      30.000000    0.300000    0.250000    0.270270\n",
      "max          9.000000     443.000000    0.900000    1.000000    0.700000\n"
     ]
    }
   ],
   "source": [
    "evaluate(model, sparse_ratings_train.transpose(), ratings_test, K=10)"
   ]
  },
  {
   "cell_type": "code",
   "execution_count": 216,
   "metadata": {
    "scrolled": true
   },
   "outputs": [
    {
     "data": {
      "application/vnd.jupyter.widget-view+json": {
       "model_id": "3926ef06918847b6a34ef35a1cc9e33f",
       "version_major": 2,
       "version_minor": 0
      },
      "text/html": [
       "<p>Failed to display Jupyter Widget of type <code>HBox</code>.</p>\n",
       "<p>\n",
       "  If you're reading this message in the Jupyter Notebook or JupyterLab Notebook, it may mean\n",
       "  that the widgets JavaScript is still loading. If this message persists, it\n",
       "  likely means that the widgets JavaScript library is either not installed or\n",
       "  not enabled. See the <a href=\"https://ipywidgets.readthedocs.io/en/stable/user_install.html\">Jupyter\n",
       "  Widgets Documentation</a> for setup instructions.\n",
       "</p>\n",
       "<p>\n",
       "  If you're reading this message in another frontend (for example, a static\n",
       "  rendering on GitHub or <a href=\"https://nbviewer.jupyter.org/\">NBViewer</a>),\n",
       "  it may mean that your frontend doesn't currently support widgets.\n",
       "</p>\n"
      ],
      "text/plain": [
       "HBox(children=(FloatProgress(value=0.0, max=610.0), HTML(value='')))"
      ]
     },
     "metadata": {},
     "output_type": "display_data"
    },
    {
     "name": "stdout",
     "output_type": "stream",
     "text": [
      "\n",
      "       n_intersection  n_interaction         P@5         R@5        F1@5\n",
      "count      606.000000     606.000000  606.000000  606.000000  413.000000\n",
      "mean         1.257426      26.985149    0.251485    0.104346    0.183928\n",
      "std          1.203192      41.353163    0.240638    0.145151    0.137033\n",
      "min          0.000000       1.000000    0.000000    0.000000    0.007905\n",
      "25%          0.000000       6.000000    0.000000    0.000000    0.076923\n",
      "50%          1.000000      12.000000    0.200000    0.049390    0.153846\n",
      "75%          2.000000      30.000000    0.400000    0.166667    0.260870\n",
      "max          5.000000     443.000000    1.000000    1.000000    0.666667\n"
     ]
    }
   ],
   "source": [
    "evaluate(model, sparse_ratings_train.transpose(), ratings_test, K=5)"
   ]
  },
  {
   "cell_type": "code",
   "execution_count": 217,
   "metadata": {},
   "outputs": [],
   "source": [
    "# TODO: compare with SparkALS"
   ]
  },
  {
   "cell_type": "code",
   "execution_count": null,
   "metadata": {},
   "outputs": [],
   "source": []
  }
 ],
 "metadata": {
  "kernelspec": {
   "display_name": "Python 3",
   "language": "python",
   "name": "python3"
  },
  "language_info": {
   "codemirror_mode": {
    "name": "ipython",
    "version": 3
   },
   "file_extension": ".py",
   "mimetype": "text/x-python",
   "name": "python",
   "nbconvert_exporter": "python",
   "pygments_lexer": "ipython3",
   "version": "3.6.6"
  }
 },
 "nbformat": 4,
 "nbformat_minor": 2
}
